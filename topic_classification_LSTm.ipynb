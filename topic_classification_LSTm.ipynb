{
  "cells": [
    {
      "cell_type": "markdown",
      "metadata": {
        "id": "view-in-github",
        "colab_type": "text"
      },
      "source": [
        "<a href=\"https://colab.research.google.com/github/Mohi294/Article-Classification/blob/main/topic_classification_LSTm.ipynb\" target=\"_parent\"><img src=\"https://colab.research.google.com/assets/colab-badge.svg\" alt=\"Open In Colab\"/></a>"
      ]
    },
    {
      "cell_type": "code",
      "execution_count": 1,
      "metadata": {
        "colab": {
          "base_uri": "https://localhost:8080/"
        },
        "id": "yfXLX-kg2ABq",
        "outputId": "1d5b5ce3-151d-40fd-d61b-104a51584df3"
      },
      "outputs": [
        {
          "output_type": "stream",
          "name": "stdout",
          "text": [
            "Drive already mounted at /content/gdrive; to attempt to forcibly remount, call drive.mount(\"/content/gdrive\", force_remount=True).\n"
          ]
        }
      ],
      "source": [
        "from google.colab import drive,files\n",
        "\n",
        "\n",
        "drive.mount(\"/content/gdrive\")"
      ]
    },
    {
      "cell_type": "code",
      "execution_count": 2,
      "metadata": {
        "id": "Ls_ZA3Lg1pNA"
      },
      "outputs": [],
      "source": [
        "import tensorflow as tf\n",
        "from tensorflow.keras.layers import Bidirectional,LSTM,TextVectorization,Dense,Embedding,Dropout,BatchNormalization,GRU,Attention\n",
        "import pandas as pd\n",
        "import numpy as np\n"
      ]
    },
    {
      "cell_type": "markdown",
      "metadata": {
        "id": "Ly0D6s_hgyw9"
      },
      "source": [
        "reading data"
      ]
    },
    {
      "cell_type": "code",
      "execution_count": 3,
      "metadata": {
        "id": "1t-Yxhm92DgP"
      },
      "outputs": [],
      "source": [
        "df = pd.read_csv(r'/content/gdrive/My Drive/finalfinal.csv')\n"
      ]
    },
    {
      "cell_type": "code",
      "execution_count": 4,
      "metadata": {
        "colab": {
          "base_uri": "https://localhost:8080/",
          "height": 424
        },
        "id": "MRQ9G8FrCyI0",
        "outputId": "163d4fbc-454e-4293-db92-25af1eacbf12"
      },
      "outputs": [
        {
          "output_type": "execute_result",
          "data": {
            "text/plain": [
              "       Unnamed: 0     FileName  CategoryId             CategoryName  \\\n",
              "0               0     1307.pdf           2          کامپیوتر و شبکه   \n",
              "1               1     1308.pdf           2          کامپیوتر و شبکه   \n",
              "2               2     1309.pdf           2          کامپیوتر و شبکه   \n",
              "3               3     1310.pdf           2          کامپیوتر و شبکه   \n",
              "4               4     1320.pdf           2          کامپیوتر و شبکه   \n",
              "...           ...          ...         ...                      ...   \n",
              "56619       56619  189993.docx          20                    عمومی   \n",
              "56620       56620  189994.docx          49             مهندسی صنایع   \n",
              "56621       56621  189995.docx          20                    عمومی   \n",
              "56622       56622  190004.docx          20                    عمومی   \n",
              "56623       56623  190006.docx          57  سیاسی و روابط بین الملل   \n",
              "\n",
              "       WordCount Language                                               text  \n",
              "0           2479       en  mrs n v l indira dr r kiran kumar internationa...  \n",
              "1           1350       en  cseit received dec accepted dec november decem...  \n",
              "2           1453       en  scalable recommender systems machine learning ...  \n",
              "3           5855       en  counterfactual estimation optimization click m...  \n",
              "4           9002       en  turun kauppakorkeakoulu • turku school economi...  \n",
              "...          ...      ...                                                ...  \n",
              "56619       3524       fa  آیا ایرانیان روزی انتقام خود را از حمله خانمان...  \n",
              "56620      14367       fa  doi ier مقاله منتخب هفدهمین کنفرانس بین المللی...  \n",
              "56621       1584       en  story valentine’s day valentine day also calle...  \n",
              "56622       1773       en  us failed stop oil exports iran iran said satu...  \n",
              "56623       1773       en  us failed stop oil exports iran iran said satu...  \n",
              "\n",
              "[56624 rows x 7 columns]"
            ],
            "text/html": [
              "\n",
              "  <div id=\"df-fa9d0bb8-8dd1-4e0d-9574-56d049b42b8b\">\n",
              "    <div class=\"colab-df-container\">\n",
              "      <div>\n",
              "<style scoped>\n",
              "    .dataframe tbody tr th:only-of-type {\n",
              "        vertical-align: middle;\n",
              "    }\n",
              "\n",
              "    .dataframe tbody tr th {\n",
              "        vertical-align: top;\n",
              "    }\n",
              "\n",
              "    .dataframe thead th {\n",
              "        text-align: right;\n",
              "    }\n",
              "</style>\n",
              "<table border=\"1\" class=\"dataframe\">\n",
              "  <thead>\n",
              "    <tr style=\"text-align: right;\">\n",
              "      <th></th>\n",
              "      <th>Unnamed: 0</th>\n",
              "      <th>FileName</th>\n",
              "      <th>CategoryId</th>\n",
              "      <th>CategoryName</th>\n",
              "      <th>WordCount</th>\n",
              "      <th>Language</th>\n",
              "      <th>text</th>\n",
              "    </tr>\n",
              "  </thead>\n",
              "  <tbody>\n",
              "    <tr>\n",
              "      <th>0</th>\n",
              "      <td>0</td>\n",
              "      <td>1307.pdf</td>\n",
              "      <td>2</td>\n",
              "      <td>کامپیوتر و شبکه</td>\n",
              "      <td>2479</td>\n",
              "      <td>en</td>\n",
              "      <td>mrs n v l indira dr r kiran kumar internationa...</td>\n",
              "    </tr>\n",
              "    <tr>\n",
              "      <th>1</th>\n",
              "      <td>1</td>\n",
              "      <td>1308.pdf</td>\n",
              "      <td>2</td>\n",
              "      <td>کامپیوتر و شبکه</td>\n",
              "      <td>1350</td>\n",
              "      <td>en</td>\n",
              "      <td>cseit received dec accepted dec november decem...</td>\n",
              "    </tr>\n",
              "    <tr>\n",
              "      <th>2</th>\n",
              "      <td>2</td>\n",
              "      <td>1309.pdf</td>\n",
              "      <td>2</td>\n",
              "      <td>کامپیوتر و شبکه</td>\n",
              "      <td>1453</td>\n",
              "      <td>en</td>\n",
              "      <td>scalable recommender systems machine learning ...</td>\n",
              "    </tr>\n",
              "    <tr>\n",
              "      <th>3</th>\n",
              "      <td>3</td>\n",
              "      <td>1310.pdf</td>\n",
              "      <td>2</td>\n",
              "      <td>کامپیوتر و شبکه</td>\n",
              "      <td>5855</td>\n",
              "      <td>en</td>\n",
              "      <td>counterfactual estimation optimization click m...</td>\n",
              "    </tr>\n",
              "    <tr>\n",
              "      <th>4</th>\n",
              "      <td>4</td>\n",
              "      <td>1320.pdf</td>\n",
              "      <td>2</td>\n",
              "      <td>کامپیوتر و شبکه</td>\n",
              "      <td>9002</td>\n",
              "      <td>en</td>\n",
              "      <td>turun kauppakorkeakoulu • turku school economi...</td>\n",
              "    </tr>\n",
              "    <tr>\n",
              "      <th>...</th>\n",
              "      <td>...</td>\n",
              "      <td>...</td>\n",
              "      <td>...</td>\n",
              "      <td>...</td>\n",
              "      <td>...</td>\n",
              "      <td>...</td>\n",
              "      <td>...</td>\n",
              "    </tr>\n",
              "    <tr>\n",
              "      <th>56619</th>\n",
              "      <td>56619</td>\n",
              "      <td>189993.docx</td>\n",
              "      <td>20</td>\n",
              "      <td>عمومی</td>\n",
              "      <td>3524</td>\n",
              "      <td>fa</td>\n",
              "      <td>آیا ایرانیان روزی انتقام خود را از حمله خانمان...</td>\n",
              "    </tr>\n",
              "    <tr>\n",
              "      <th>56620</th>\n",
              "      <td>56620</td>\n",
              "      <td>189994.docx</td>\n",
              "      <td>49</td>\n",
              "      <td>مهندسی صنایع</td>\n",
              "      <td>14367</td>\n",
              "      <td>fa</td>\n",
              "      <td>doi ier مقاله منتخب هفدهمین کنفرانس بین المللی...</td>\n",
              "    </tr>\n",
              "    <tr>\n",
              "      <th>56621</th>\n",
              "      <td>56621</td>\n",
              "      <td>189995.docx</td>\n",
              "      <td>20</td>\n",
              "      <td>عمومی</td>\n",
              "      <td>1584</td>\n",
              "      <td>en</td>\n",
              "      <td>story valentine’s day valentine day also calle...</td>\n",
              "    </tr>\n",
              "    <tr>\n",
              "      <th>56622</th>\n",
              "      <td>56622</td>\n",
              "      <td>190004.docx</td>\n",
              "      <td>20</td>\n",
              "      <td>عمومی</td>\n",
              "      <td>1773</td>\n",
              "      <td>en</td>\n",
              "      <td>us failed stop oil exports iran iran said satu...</td>\n",
              "    </tr>\n",
              "    <tr>\n",
              "      <th>56623</th>\n",
              "      <td>56623</td>\n",
              "      <td>190006.docx</td>\n",
              "      <td>57</td>\n",
              "      <td>سیاسی و روابط بین الملل</td>\n",
              "      <td>1773</td>\n",
              "      <td>en</td>\n",
              "      <td>us failed stop oil exports iran iran said satu...</td>\n",
              "    </tr>\n",
              "  </tbody>\n",
              "</table>\n",
              "<p>56624 rows × 7 columns</p>\n",
              "</div>\n",
              "      <button class=\"colab-df-convert\" onclick=\"convertToInteractive('df-fa9d0bb8-8dd1-4e0d-9574-56d049b42b8b')\"\n",
              "              title=\"Convert this dataframe to an interactive table.\"\n",
              "              style=\"display:none;\">\n",
              "        \n",
              "  <svg xmlns=\"http://www.w3.org/2000/svg\" height=\"24px\"viewBox=\"0 0 24 24\"\n",
              "       width=\"24px\">\n",
              "    <path d=\"M0 0h24v24H0V0z\" fill=\"none\"/>\n",
              "    <path d=\"M18.56 5.44l.94 2.06.94-2.06 2.06-.94-2.06-.94-.94-2.06-.94 2.06-2.06.94zm-11 1L8.5 8.5l.94-2.06 2.06-.94-2.06-.94L8.5 2.5l-.94 2.06-2.06.94zm10 10l.94 2.06.94-2.06 2.06-.94-2.06-.94-.94-2.06-.94 2.06-2.06.94z\"/><path d=\"M17.41 7.96l-1.37-1.37c-.4-.4-.92-.59-1.43-.59-.52 0-1.04.2-1.43.59L10.3 9.45l-7.72 7.72c-.78.78-.78 2.05 0 2.83L4 21.41c.39.39.9.59 1.41.59.51 0 1.02-.2 1.41-.59l7.78-7.78 2.81-2.81c.8-.78.8-2.07 0-2.86zM5.41 20L4 18.59l7.72-7.72 1.47 1.35L5.41 20z\"/>\n",
              "  </svg>\n",
              "      </button>\n",
              "      \n",
              "  <style>\n",
              "    .colab-df-container {\n",
              "      display:flex;\n",
              "      flex-wrap:wrap;\n",
              "      gap: 12px;\n",
              "    }\n",
              "\n",
              "    .colab-df-convert {\n",
              "      background-color: #E8F0FE;\n",
              "      border: none;\n",
              "      border-radius: 50%;\n",
              "      cursor: pointer;\n",
              "      display: none;\n",
              "      fill: #1967D2;\n",
              "      height: 32px;\n",
              "      padding: 0 0 0 0;\n",
              "      width: 32px;\n",
              "    }\n",
              "\n",
              "    .colab-df-convert:hover {\n",
              "      background-color: #E2EBFA;\n",
              "      box-shadow: 0px 1px 2px rgba(60, 64, 67, 0.3), 0px 1px 3px 1px rgba(60, 64, 67, 0.15);\n",
              "      fill: #174EA6;\n",
              "    }\n",
              "\n",
              "    [theme=dark] .colab-df-convert {\n",
              "      background-color: #3B4455;\n",
              "      fill: #D2E3FC;\n",
              "    }\n",
              "\n",
              "    [theme=dark] .colab-df-convert:hover {\n",
              "      background-color: #434B5C;\n",
              "      box-shadow: 0px 1px 3px 1px rgba(0, 0, 0, 0.15);\n",
              "      filter: drop-shadow(0px 1px 2px rgba(0, 0, 0, 0.3));\n",
              "      fill: #FFFFFF;\n",
              "    }\n",
              "  </style>\n",
              "\n",
              "      <script>\n",
              "        const buttonEl =\n",
              "          document.querySelector('#df-fa9d0bb8-8dd1-4e0d-9574-56d049b42b8b button.colab-df-convert');\n",
              "        buttonEl.style.display =\n",
              "          google.colab.kernel.accessAllowed ? 'block' : 'none';\n",
              "\n",
              "        async function convertToInteractive(key) {\n",
              "          const element = document.querySelector('#df-fa9d0bb8-8dd1-4e0d-9574-56d049b42b8b');\n",
              "          const dataTable =\n",
              "            await google.colab.kernel.invokeFunction('convertToInteractive',\n",
              "                                                     [key], {});\n",
              "          if (!dataTable) return;\n",
              "\n",
              "          const docLinkHtml = 'Like what you see? Visit the ' +\n",
              "            '<a target=\"_blank\" href=https://colab.research.google.com/notebooks/data_table.ipynb>data table notebook</a>'\n",
              "            + ' to learn more about interactive tables.';\n",
              "          element.innerHTML = '';\n",
              "          dataTable['output_type'] = 'display_data';\n",
              "          await google.colab.output.renderOutput(dataTable, element);\n",
              "          const docLink = document.createElement('div');\n",
              "          docLink.innerHTML = docLinkHtml;\n",
              "          element.appendChild(docLink);\n",
              "        }\n",
              "      </script>\n",
              "    </div>\n",
              "  </div>\n",
              "  "
            ]
          },
          "metadata": {},
          "execution_count": 4
        }
      ],
      "source": [
        "df"
      ]
    },
    {
      "cell_type": "code",
      "execution_count": 5,
      "metadata": {
        "id": "oUcZq8dp3PGY"
      },
      "outputs": [],
      "source": [
        "df = df[(df['text'].notna()) & (df['Language'] == 'en')]\n",
        "\n",
        "x = df['text']\n",
        "y = df['CategoryId']"
      ]
    },
    {
      "cell_type": "markdown",
      "metadata": {
        "id": "fuwem6olgqDW"
      },
      "source": [
        "splitting test and train"
      ]
    },
    {
      "cell_type": "code",
      "execution_count": 6,
      "metadata": {
        "id": "6ycsSPVN3d9U"
      },
      "outputs": [],
      "source": [
        "from sklearn.model_selection import train_test_split\n",
        "X_train, X_test, y_train, y_test = train_test_split(x, y, test_size = 0.1, random_state = 0, shuffle = True)\n",
        "\n",
        "train_dataset = pd.concat([X_train,y_train],axis=1)\n",
        "test_dataset = pd.concat([X_test,y_test],axis=1) \n"
      ]
    },
    {
      "cell_type": "code",
      "execution_count": 7,
      "metadata": {
        "id": "UrsNWYHy_NzI"
      },
      "outputs": [],
      "source": [
        "from sklearn.preprocessing import LabelEncoder\n",
        "y_train = LabelEncoder().fit_transform(y_train)\n",
        "y_test = LabelEncoder().fit_transform(y_test)\n",
        "\n",
        "# from tensorflow.keras.utils import to_categorical\n",
        "\n",
        "# y_train =to_categorical(y_train)\n",
        "# y_test = to_categorical(y_test)"
      ]
    },
    {
      "cell_type": "markdown",
      "metadata": {
        "id": "85HToRJcglih"
      },
      "source": [
        "building vocabulary"
      ]
    },
    {
      "cell_type": "code",
      "execution_count": 8,
      "metadata": {
        "id": "RDxcDvRN3XRR"
      },
      "outputs": [],
      "source": [
        "VOCAB_SIZE = 100000\n",
        "\n",
        "encoder = TextVectorization(max_tokens=VOCAB_SIZE)\n",
        "encoder.adapt(train_dataset[\"text\"].to_numpy().reshape(-1,1))"
      ]
    },
    {
      "cell_type": "code",
      "execution_count": 9,
      "metadata": {
        "colab": {
          "base_uri": "https://localhost:8080/"
        },
        "id": "YbNuq04K5nHQ",
        "outputId": "b54c4cd5-c137-4453-acfd-95add73c93a8"
      },
      "outputs": [
        {
          "output_type": "execute_result",
          "data": {
            "text/plain": [
              "array(['', '[UNK]', '–', ..., 'out\\xad', 'outcasts', 'osteoclast'],\n",
              "      dtype='<U797')"
            ]
          },
          "metadata": {},
          "execution_count": 9
        }
      ],
      "source": [
        "vocab = np.array(encoder.get_vocabulary())\n",
        "\n",
        "vocab"
      ]
    },
    {
      "cell_type": "code",
      "execution_count": 10,
      "metadata": {
        "id": "zsw0u8wu8hiN"
      },
      "outputs": [],
      "source": [
        "#train_dataset[\"text\"].to_numpy().reshape(-1,1)"
      ]
    },
    {
      "cell_type": "markdown",
      "metadata": {
        "id": "-XChd4JvggqD"
      },
      "source": [
        "building model architecture"
      ]
    },
    {
      "cell_type": "code",
      "execution_count": 11,
      "metadata": {
        "id": "r0bMBSTh59HP"
      },
      "outputs": [],
      "source": [
        "model = tf.keras.Sequential([\n",
        "    tf.keras.Input(shape=(1,), dtype=tf.string),\n",
        "    encoder,\n",
        "    Embedding(\n",
        "        input_dim=len(encoder.get_vocabulary()),\n",
        "        output_dim=64,\n",
        "        mask_zero=True),\n",
        "    Bidirectional(LSTM(200,return_sequences=True)),\n",
        "    Dropout(0.4),\n",
        "    BatchNormalization(),\n",
        "    Bidirectional(LSTM(100)),\n",
        "    Dropout(0.2),\n",
        "    BatchNormalization(),\n",
        "    Dense(64, activation='relu',kernel_regularizer='l2'),\n",
        "    Dense(58,activation='softmax')\n",
        "])"
      ]
    },
    {
      "cell_type": "code",
      "execution_count": 12,
      "metadata": {
        "id": "f5Y9P5159hxz"
      },
      "outputs": [],
      "source": [
        "# model = tf.keras.Sequential([\n",
        "#     tf.keras.Input(shape=(1,), dtype=tf.string),\n",
        "#     encoder,\n",
        "#     Embedding(\n",
        "#         input_dim=len(encoder.get_vocabulary()),\n",
        "#         output_dim=120,\n",
        "#         mask_zero=True),\n",
        "#     # Bidirectional(LSTM(200,return_sequences=True)),\n",
        "#     # Dropout(0.4),\n",
        "#     # BatchNormalization(),\n",
        "#     Bidirectional(LSTM(200, return_sequences=False)),\n",
        "#     Dropout(0.5),\n",
        "#     BatchNormalization(),\n",
        "#     Dense(48, activation='relu',kernel_regularizer='l1'),\n",
        "#     Dense(58,activation='softmax')\n",
        "    \n",
        "# ])"
      ]
    },
    {
      "cell_type": "code",
      "execution_count": 13,
      "metadata": {
        "id": "30Uh2EoE-XYI"
      },
      "outputs": [],
      "source": [
        "#callback = tf.keras.callbacks.EarlyStopping(monitor='loss', patience=3)"
      ]
    },
    {
      "cell_type": "markdown",
      "metadata": {
        "id": "pM8bcX_eg4k1"
      },
      "source": [
        "compiling model"
      ]
    },
    {
      "cell_type": "code",
      "execution_count": 14,
      "metadata": {
        "colab": {
          "base_uri": "https://localhost:8080/"
        },
        "id": "ILxE-bQ67KN6",
        "outputId": "fdd38186-6316-4eef-98cc-03036479f7d0"
      },
      "outputs": [
        {
          "output_type": "stream",
          "name": "stderr",
          "text": [
            "/usr/local/lib/python3.7/dist-packages/keras/optimizers/optimizer_v2/adam.py:110: UserWarning: The `lr` argument is deprecated, use `learning_rate` instead.\n",
            "  super(Adam, self).__init__(name, **kwargs)\n"
          ]
        }
      ],
      "source": [
        "model.compile(loss=\"sparse_categorical_crossentropy\",\n",
        "              optimizer=tf.keras.optimizers.Adam(lr=0.0001, beta_1=0.9, beta_2=0.999, epsilon=None, decay=0.0, amsgrad=False),\n",
        "              metrics=['accuracy'])"
      ]
    },
    {
      "cell_type": "code",
      "execution_count": null,
      "metadata": {
        "colab": {
          "base_uri": "https://localhost:8080/"
        },
        "id": "XrbLZbdq-zWH",
        "outputId": "2e6ad66f-743a-4808-ae1b-b02c5827c6c0"
      },
      "outputs": [
        {
          "output_type": "stream",
          "name": "stdout",
          "text": [
            "Epoch 1/27\n"
          ]
        }
      ],
      "source": [
        "history = model.fit(X_train,y_train,batch_size=100,epochs=27,validation_data=(X_test,y_test))"
      ]
    },
    {
      "cell_type": "code",
      "execution_count": null,
      "metadata": {
        "id": "cpBqGkV4C_FE"
      },
      "outputs": [],
      "source": [
        "test_loss, test_acc = model.evaluate(X_test,y_test)\n",
        "\n",
        "print('Test Loss:', test_loss)\n",
        "print('Test Accuracy:', test_acc)"
      ]
    },
    {
      "cell_type": "markdown",
      "metadata": {
        "id": "F7XipoMohryq"
      },
      "source": [
        "plotting model results"
      ]
    },
    {
      "cell_type": "code",
      "execution_count": null,
      "metadata": {
        "id": "tcSxtz4ksQ94"
      },
      "outputs": [],
      "source": [
        "from matplotlib import pyplot\n",
        "\n",
        "pyplot.plot(history.history['loss'])\n",
        "pyplot.plot(history.history['val_loss'])\n",
        "pyplot.title('model train vs validation loss')\n",
        "pyplot.ylabel('loss')\n",
        "pyplot.xlabel('epoch')\n",
        "pyplot.legend(['train', 'validation'], loc='upper right')\n",
        "pyplot.show()"
      ]
    },
    {
      "cell_type": "code",
      "execution_count": null,
      "metadata": {
        "id": "-1cLQnSrEQhG"
      },
      "outputs": [],
      "source": [
        "import matplotlib.pyplot as plt\n",
        "\n",
        "plt.figure(figsize=(16, 8))\n",
        "#plt.subplot(1, 2, 1)\n",
        "plt.plot(model.history.history['loss'] , label='train')\n",
        "plt.plot(model.history.history['val_loss'], label='val')\n",
        "#plt.ylim(None, 1)\n",
        "plt.legend()\n"
      ]
    },
    {
      "cell_type": "code",
      "execution_count": null,
      "metadata": {
        "id": "O6oQEM_MIZ5P"
      },
      "outputs": [],
      "source": [
        "\n",
        "\n",
        "#plt.subplot(1, 2, 2)\n",
        "plt.plot(model.history.history['accuracy'] , label='train')\n",
        "plt.plot(model.history.history['val_accuracy'], label='val')\n",
        "plt.ylim(0, None)\n",
        "plt.legend()"
      ]
    },
    {
      "cell_type": "code",
      "execution_count": null,
      "metadata": {
        "id": "PHwCnrbkh21X"
      },
      "outputs": [],
      "source": [
        "model.history"
      ]
    }
  ],
  "metadata": {
    "accelerator": "TPU",
    "colab": {
      "collapsed_sections": [],
      "provenance": [],
      "include_colab_link": true
    },
    "gpuClass": "standard",
    "kernelspec": {
      "display_name": "Python 3",
      "name": "python3"
    },
    "language_info": {
      "name": "python"
    }
  },
  "nbformat": 4,
  "nbformat_minor": 0
}